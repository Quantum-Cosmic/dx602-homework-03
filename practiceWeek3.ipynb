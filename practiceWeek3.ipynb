{
 "cells": [
  {
   "cell_type": "code",
   "execution_count": 54,
   "id": "0d8452d2",
   "metadata": {},
   "outputs": [],
   "source": [
    "def p19(aList):\n",
    "    return all(0.5 <= i <= 0.75 for i in aList)"
   ]
  },
  {
   "cell_type": "code",
   "execution_count": 58,
   "id": "aa046f42",
   "metadata": {},
   "outputs": [
    {
     "data": {
      "text/plain": [
       "False"
      ]
     },
     "execution_count": 58,
     "metadata": {},
     "output_type": "execute_result"
    }
   ],
   "source": [
    "p19([True, 0.6, 0.7])"
   ]
  },
  {
   "cell_type": "code",
   "execution_count": 70,
   "id": "432e62e6",
   "metadata": {},
   "outputs": [
    {
     "data": {
      "text/plain": [
       "[{'score': 9}, {'score': 8}, {'score': 7}, {'score': 6}, {'score': 5}]"
      ]
     },
     "execution_count": 70,
     "metadata": {},
     "output_type": "execute_result"
    }
   ],
   "source": [
    "p9(p9_example_input)"
   ]
  },
  {
   "cell_type": "code",
   "execution_count": null,
   "id": "3ff3c33a",
   "metadata": {},
   "outputs": [
    {
     "data": {
      "text/plain": [
       "[{'score': 1}, {'score': 3}]"
      ]
     },
     "execution_count": 127,
     "metadata": {},
     "output_type": "execute_result"
    }
   ],
   "source": [
    "p9([{\"score\": 3}, {\"score\": 1}])"
   ]
  }
 ],
 "metadata": {
  "kernelspec": {
   "display_name": "Python 3",
   "language": "python",
   "name": "python3"
  },
  "language_info": {
   "codemirror_mode": {
    "name": "ipython",
    "version": 3
   },
   "file_extension": ".py",
   "mimetype": "text/x-python",
   "name": "python",
   "nbconvert_exporter": "python",
   "pygments_lexer": "ipython3",
   "version": "3.12.1"
  }
 },
 "nbformat": 4,
 "nbformat_minor": 5
}
