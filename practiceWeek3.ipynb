{
 "cells": [
  {
   "cell_type": "code",
   "execution_count": 67,
   "id": "e6b4eb38",
   "metadata": {},
   "outputs": [],
   "source": [
    "import math\n"
   ]
  },
  {
   "cell_type": "code",
   "execution_count": 224,
   "id": "0d8452d2",
   "metadata": {},
   "outputs": [
    {
     "data": {
      "text/plain": [
       "42"
      ]
     },
     "execution_count": 224,
     "metadata": {},
     "output_type": "execute_result"
    }
   ],
   "source": [
    "# return a set of key's value for all items in dictionaries. p10 returns the dictionary. p12 returns only the value of the key\n",
    "\n",
    "\n",
    "x = 7\n",
    "y = 4\n",
    "for z in range (y):\n",
    "    if z:\n",
    "        x = x*z\n",
    "\n",
    "x"
   ]
  },
  {
   "cell_type": "code",
   "execution_count": 222,
   "id": "aa046f42",
   "metadata": {},
   "outputs": [
    {
     "data": {
      "text/plain": [
       "True"
      ]
     },
     "execution_count": 222,
     "metadata": {},
     "output_type": "execute_result"
    }
   ],
   "source": [
    "p19([.55, .55, .56, .6])"
   ]
  },
  {
   "cell_type": "code",
   "execution_count": 70,
   "id": "432e62e6",
   "metadata": {},
   "outputs": [
    {
     "data": {
      "text/plain": [
       "[{'score': 9}, {'score': 8}, {'score': 7}, {'score': 6}, {'score': 5}]"
      ]
     },
     "execution_count": 70,
     "metadata": {},
     "output_type": "execute_result"
    }
   ],
   "source": [
    "p9(p9_example_input)"
   ]
  },
  {
   "cell_type": "code",
   "execution_count": null,
   "id": "3ff3c33a",
   "metadata": {},
   "outputs": [
    {
     "data": {
      "text/plain": [
       "[{'score': 1}, {'score': 3}]"
      ]
     },
     "execution_count": 127,
     "metadata": {},
     "output_type": "execute_result"
    }
   ],
   "source": [
    "p9([{\"score\": 3}, {\"score\": 1}])"
   ]
  }
 ],
 "metadata": {
  "kernelspec": {
   "display_name": "Python 3",
   "language": "python",
   "name": "python3"
  },
  "language_info": {
   "codemirror_mode": {
    "name": "ipython",
    "version": 3
   },
   "file_extension": ".py",
   "mimetype": "text/x-python",
   "name": "python",
   "nbconvert_exporter": "python",
   "pygments_lexer": "ipython3",
   "version": "3.12.1"
  }
 },
 "nbformat": 4,
 "nbformat_minor": 5
}
